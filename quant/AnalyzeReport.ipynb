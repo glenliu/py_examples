{
 "cells": [
  {
   "cell_type": "markdown",
   "metadata": {},
   "source": [
    "Todo:\n",
    "1. remove duplicate by code, year, quarter\n",
    "2. index\n",
    "3. timeseries\n",
    "4. field dtype\n"
   ]
  },
  {
   "cell_type": "code",
   "execution_count": 1,
   "metadata": {
    "collapsed": true
   },
   "outputs": [],
   "source": [
    "import pandas as pd\n",
    "import numpy as np\n",
    "import matplotlib.pyplot as plt"
   ]
  },
  {
   "cell_type": "code",
   "execution_count": 2,
   "metadata": {
    "collapsed": true
   },
   "outputs": [],
   "source": [
    "%matplotlib inline"
   ]
  },
  {
   "cell_type": "code",
   "execution_count": 3,
   "metadata": {
    "collapsed": true
   },
   "outputs": [],
   "source": [
    "df_all_reports=pd.read_csv(\"reportdata.csv\",header=0, sep=',',encoding='UTF-8')"
   ]
  },
  {
   "cell_type": "code",
   "execution_count": 4,
   "metadata": {
    "collapsed": true
   },
   "outputs": [],
   "source": [
    "?pd.read_csv"
   ]
  },
  {
   "cell_type": "code",
   "execution_count": 5,
   "metadata": {},
   "outputs": [
    {
     "data": {
      "text/plain": [
       "(157574, 14)"
      ]
     },
     "execution_count": 5,
     "metadata": {},
     "output_type": "execute_result"
    }
   ],
   "source": [
    "df_all_reports.shape"
   ]
  },
  {
   "cell_type": "code",
   "execution_count": 11,
   "metadata": {},
   "outputs": [
    {
     "data": {
      "text/html": [
       "<div>\n",
       "<style>\n",
       "    .dataframe thead tr:only-child th {\n",
       "        text-align: right;\n",
       "    }\n",
       "\n",
       "    .dataframe thead th {\n",
       "        text-align: left;\n",
       "    }\n",
       "\n",
       "    .dataframe tbody tr th {\n",
       "        vertical-align: top;\n",
       "    }\n",
       "</style>\n",
       "<table border=\"1\" class=\"dataframe\">\n",
       "  <thead>\n",
       "    <tr style=\"text-align: right;\">\n",
       "      <th></th>\n",
       "      <th>Unnamed: 0</th>\n",
       "      <th>code</th>\n",
       "      <th>name</th>\n",
       "      <th>eps</th>\n",
       "      <th>eps_yoy</th>\n",
       "      <th>bvps</th>\n",
       "      <th>roe</th>\n",
       "      <th>epcf</th>\n",
       "      <th>net_profits</th>\n",
       "      <th>profits_yoy</th>\n",
       "      <th>distrib</th>\n",
       "      <th>report_date</th>\n",
       "      <th>year</th>\n",
       "      <th>quarter</th>\n",
       "    </tr>\n",
       "  </thead>\n",
       "  <tbody>\n",
       "    <tr>\n",
       "      <th>0</th>\n",
       "      <td>0</td>\n",
       "      <td>600247</td>\n",
       "      <td>*ST成城</td>\n",
       "      <td>NaN</td>\n",
       "      <td>NaN</td>\n",
       "      <td>NaN</td>\n",
       "      <td>NaN</td>\n",
       "      <td>0.01</td>\n",
       "      <td>341.03</td>\n",
       "      <td>NaN</td>\n",
       "      <td>NaN</td>\n",
       "      <td>10-27</td>\n",
       "      <td>2000</td>\n",
       "      <td>1</td>\n",
       "    </tr>\n",
       "    <tr>\n",
       "      <th>1</th>\n",
       "      <td>1</td>\n",
       "      <td>153</td>\n",
       "      <td>丰原药业</td>\n",
       "      <td>NaN</td>\n",
       "      <td>NaN</td>\n",
       "      <td>NaN</td>\n",
       "      <td>NaN</td>\n",
       "      <td>NaN</td>\n",
       "      <td>297.36</td>\n",
       "      <td>NaN</td>\n",
       "      <td>NaN</td>\n",
       "      <td>09-15</td>\n",
       "      <td>2000</td>\n",
       "      <td>1</td>\n",
       "    </tr>\n",
       "    <tr>\n",
       "      <th>2</th>\n",
       "      <td>2</td>\n",
       "      <td>600280</td>\n",
       "      <td>中央商场</td>\n",
       "      <td>NaN</td>\n",
       "      <td>NaN</td>\n",
       "      <td>2.44</td>\n",
       "      <td>NaN</td>\n",
       "      <td>NaN</td>\n",
       "      <td>586.20</td>\n",
       "      <td>NaN</td>\n",
       "      <td>NaN</td>\n",
       "      <td>08-25</td>\n",
       "      <td>2000</td>\n",
       "      <td>1</td>\n",
       "    </tr>\n",
       "    <tr>\n",
       "      <th>3</th>\n",
       "      <td>3</td>\n",
       "      <td>150</td>\n",
       "      <td>宜华健康</td>\n",
       "      <td>NaN</td>\n",
       "      <td>NaN</td>\n",
       "      <td>NaN</td>\n",
       "      <td>NaN</td>\n",
       "      <td>NaN</td>\n",
       "      <td>684.70</td>\n",
       "      <td>NaN</td>\n",
       "      <td>NaN</td>\n",
       "      <td>08-02</td>\n",
       "      <td>2000</td>\n",
       "      <td>1</td>\n",
       "    </tr>\n",
       "    <tr>\n",
       "      <th>4</th>\n",
       "      <td>4</td>\n",
       "      <td>600251</td>\n",
       "      <td>冠农股份</td>\n",
       "      <td>-0.01</td>\n",
       "      <td>NaN</td>\n",
       "      <td>NaN</td>\n",
       "      <td>-0.49</td>\n",
       "      <td>NaN</td>\n",
       "      <td>NaN</td>\n",
       "      <td>NaN</td>\n",
       "      <td>NaN</td>\n",
       "      <td>08-18</td>\n",
       "      <td>2000</td>\n",
       "      <td>2</td>\n",
       "    </tr>\n",
       "  </tbody>\n",
       "</table>\n",
       "</div>"
      ],
      "text/plain": [
       "   Unnamed: 0    code   name   eps  eps_yoy  bvps   roe  epcf  net_profits  \\\n",
       "0           0  600247  *ST成城   NaN      NaN   NaN   NaN  0.01       341.03   \n",
       "1           1     153   丰原药业   NaN      NaN   NaN   NaN   NaN       297.36   \n",
       "2           2  600280   中央商场   NaN      NaN  2.44   NaN   NaN       586.20   \n",
       "3           3     150   宜华健康   NaN      NaN   NaN   NaN   NaN       684.70   \n",
       "4           4  600251   冠农股份 -0.01      NaN   NaN -0.49   NaN          NaN   \n",
       "\n",
       "   profits_yoy distrib report_date  year  quarter  \n",
       "0          NaN     NaN       10-27  2000        1  \n",
       "1          NaN     NaN       09-15  2000        1  \n",
       "2          NaN     NaN       08-25  2000        1  \n",
       "3          NaN     NaN       08-02  2000        1  \n",
       "4          NaN     NaN       08-18  2000        2  "
      ]
     },
     "execution_count": 11,
     "metadata": {},
     "output_type": "execute_result"
    }
   ],
   "source": [
    "df_all_reports.head()"
   ]
  },
  {
   "cell_type": "code",
   "execution_count": 6,
   "metadata": {
    "collapsed": true
   },
   "outputs": [],
   "source": [
    "df_all_reports.drop(['Unnamed: 0'], inplace=True, axis=1)"
   ]
  },
  {
   "cell_type": "code",
   "execution_count": 7,
   "metadata": {},
   "outputs": [
    {
     "data": {
      "text/plain": [
       "Index(['code', 'name', 'eps', 'eps_yoy', 'bvps', 'roe', 'epcf', 'net_profits',\n",
       "       'profits_yoy', 'distrib', 'report_date', 'year', 'quarter'],\n",
       "      dtype='object')"
      ]
     },
     "execution_count": 7,
     "metadata": {},
     "output_type": "execute_result"
    }
   ],
   "source": [
    "df_all_reports.columns"
   ]
  },
  {
   "cell_type": "code",
   "execution_count": 8,
   "metadata": {},
   "outputs": [
    {
     "data": {
      "text/html": [
       "<div>\n",
       "<style>\n",
       "    .dataframe thead tr:only-child th {\n",
       "        text-align: right;\n",
       "    }\n",
       "\n",
       "    .dataframe thead th {\n",
       "        text-align: left;\n",
       "    }\n",
       "\n",
       "    .dataframe tbody tr th {\n",
       "        vertical-align: top;\n",
       "    }\n",
       "</style>\n",
       "<table border=\"1\" class=\"dataframe\">\n",
       "  <thead>\n",
       "    <tr style=\"text-align: right;\">\n",
       "      <th></th>\n",
       "      <th>code</th>\n",
       "      <th>name</th>\n",
       "      <th>eps</th>\n",
       "      <th>eps_yoy</th>\n",
       "      <th>bvps</th>\n",
       "      <th>roe</th>\n",
       "      <th>epcf</th>\n",
       "      <th>net_profits</th>\n",
       "      <th>profits_yoy</th>\n",
       "      <th>distrib</th>\n",
       "      <th>report_date</th>\n",
       "      <th>year</th>\n",
       "      <th>quarter</th>\n",
       "    </tr>\n",
       "  </thead>\n",
       "  <tbody>\n",
       "    <tr>\n",
       "      <th>157569</th>\n",
       "      <td>601636</td>\n",
       "      <td>旗滨集团</td>\n",
       "      <td>0.36</td>\n",
       "      <td>14.06</td>\n",
       "      <td>NaN</td>\n",
       "      <td>13.16</td>\n",
       "      <td>NaN</td>\n",
       "      <td>95915.52</td>\n",
       "      <td>16.27</td>\n",
       "      <td>NaN</td>\n",
       "      <td>10-12</td>\n",
       "      <td>2018</td>\n",
       "      <td>3</td>\n",
       "    </tr>\n",
       "    <tr>\n",
       "      <th>157570</th>\n",
       "      <td>600675</td>\n",
       "      <td>中华企业</td>\n",
       "      <td>0.17</td>\n",
       "      <td>10.19</td>\n",
       "      <td>NaN</td>\n",
       "      <td>7.65</td>\n",
       "      <td>NaN</td>\n",
       "      <td>81382.93</td>\n",
       "      <td>177.64</td>\n",
       "      <td>NaN</td>\n",
       "      <td>10-12</td>\n",
       "      <td>2018</td>\n",
       "      <td>3</td>\n",
       "    </tr>\n",
       "    <tr>\n",
       "      <th>157571</th>\n",
       "      <td>600728</td>\n",
       "      <td>佳都科技</td>\n",
       "      <td>0.07</td>\n",
       "      <td>108.93</td>\n",
       "      <td>NaN</td>\n",
       "      <td>3.48</td>\n",
       "      <td>NaN</td>\n",
       "      <td>11262.05</td>\n",
       "      <td>110.43</td>\n",
       "      <td>NaN</td>\n",
       "      <td>10-11</td>\n",
       "      <td>2018</td>\n",
       "      <td>3</td>\n",
       "    </tr>\n",
       "    <tr>\n",
       "      <th>157572</th>\n",
       "      <td>600231</td>\n",
       "      <td>凌钢股份</td>\n",
       "      <td>0.46</td>\n",
       "      <td>15.00</td>\n",
       "      <td>2.72</td>\n",
       "      <td>18.29</td>\n",
       "      <td>0.61</td>\n",
       "      <td>127694.58</td>\n",
       "      <td>28.21</td>\n",
       "      <td>NaN</td>\n",
       "      <td>10-10</td>\n",
       "      <td>2018</td>\n",
       "      <td>3</td>\n",
       "    </tr>\n",
       "    <tr>\n",
       "      <th>157573</th>\n",
       "      <td>697</td>\n",
       "      <td>炼石航空</td>\n",
       "      <td>-0.38</td>\n",
       "      <td>11.06</td>\n",
       "      <td>NaN</td>\n",
       "      <td>-15.35</td>\n",
       "      <td>NaN</td>\n",
       "      <td>-21307.29</td>\n",
       "      <td>11.07</td>\n",
       "      <td>NaN</td>\n",
       "      <td>10-09</td>\n",
       "      <td>2018</td>\n",
       "      <td>3</td>\n",
       "    </tr>\n",
       "  </tbody>\n",
       "</table>\n",
       "</div>"
      ],
      "text/plain": [
       "          code  name   eps  eps_yoy  bvps    roe  epcf  net_profits  \\\n",
       "157569  601636  旗滨集团  0.36    14.06   NaN  13.16   NaN     95915.52   \n",
       "157570  600675  中华企业  0.17    10.19   NaN   7.65   NaN     81382.93   \n",
       "157571  600728  佳都科技  0.07   108.93   NaN   3.48   NaN     11262.05   \n",
       "157572  600231  凌钢股份  0.46    15.00  2.72  18.29  0.61    127694.58   \n",
       "157573     697  炼石航空 -0.38    11.06   NaN -15.35   NaN    -21307.29   \n",
       "\n",
       "        profits_yoy distrib report_date  year  quarter  \n",
       "157569        16.27     NaN       10-12  2018        3  \n",
       "157570       177.64     NaN       10-12  2018        3  \n",
       "157571       110.43     NaN       10-11  2018        3  \n",
       "157572        28.21     NaN       10-10  2018        3  \n",
       "157573        11.07     NaN       10-09  2018        3  "
      ]
     },
     "execution_count": 8,
     "metadata": {},
     "output_type": "execute_result"
    }
   ],
   "source": [
    "df_all_reports.tail()"
   ]
  },
  {
   "cell_type": "code",
   "execution_count": 9,
   "metadata": {},
   "outputs": [
    {
     "data": {
      "text/plain": [
       "code             int64\n",
       "name            object\n",
       "eps            float64\n",
       "eps_yoy        float64\n",
       "bvps           float64\n",
       "roe            float64\n",
       "epcf           float64\n",
       "net_profits    float64\n",
       "profits_yoy    float64\n",
       "distrib         object\n",
       "report_date     object\n",
       "year             int64\n",
       "quarter          int64\n",
       "dtype: object"
      ]
     },
     "execution_count": 9,
     "metadata": {},
     "output_type": "execute_result"
    }
   ],
   "source": [
    "df_all_reports.dtypes"
   ]
  },
  {
   "cell_type": "code",
   "execution_count": 18,
   "metadata": {
    "collapsed": true
   },
   "outputs": [],
   "source": [
    "stock_rep=df_all_reports.loc[df_all_reports['code']==651]"
   ]
  },
  {
   "cell_type": "code",
   "execution_count": 19,
   "metadata": {},
   "outputs": [
    {
     "data": {
      "text/plain": [
       "(66, 13)"
      ]
     },
     "execution_count": 19,
     "metadata": {},
     "output_type": "execute_result"
    }
   ],
   "source": [
    "stock_rep.shape"
   ]
  },
  {
   "cell_type": "code",
   "execution_count": 20,
   "metadata": {
    "scrolled": true
   },
   "outputs": [
    {
     "data": {
      "text/plain": [
       "<matplotlib.axes._subplots.AxesSubplot at 0x7f65e3674ba8>"
      ]
     },
     "execution_count": 20,
     "metadata": {},
     "output_type": "execute_result"
    },
    {
     "data": {
      "image/png": "[encoded data removed]",
      "text/plain": [
       "<matplotlib.figure.Figure at 0x7f65e466a470>"
      ]
     },
     "metadata": {},
     "output_type": "display_data"
    }
   ],
   "source": [
    "stock_rep['net_profits'].plot()"
   ]
  },
  {
   "cell_type": "code",
   "execution_count": 21,
   "metadata": {
    "collapsed": true
   },
   "outputs": [],
   "source": [
    "ann_sto_rep=stock_rep.loc[stock_rep['quarter']==4]"
   ]
  },
  {
   "cell_type": "code",
   "execution_count": 22,
   "metadata": {},
   "outputs": [
    {
     "data": {
      "text/plain": [
       "<matplotlib.axes._subplots.AxesSubplot at 0x7f65e35d0b70>"
      ]
     },
     "execution_count": 22,
     "metadata": {},
     "output_type": "execute_result"
    },
    {
     "data": {
      "image/png": "[encoded data removed]",
      "text/plain": [
       "<matplotlib.figure.Figure at 0x7f660f9d9860>"
      ]
     },
     "metadata": {},
     "output_type": "display_data"
    }
   ],
   "source": [
    "ann_sto_rep['roe'].plot()"
   ]
  },
  {
   "cell_type": "code",
   "execution_count": 23,
   "metadata": {},
   "outputs": [
    {
     "data": {
      "text/plain": [
       "<matplotlib.axes._subplots.AxesSubplot at 0x7f65e359a9e8>"
      ]
     },
     "execution_count": 23,
     "metadata": {},
     "output_type": "execute_result"
    },
    {
     "data": {
      "image/png": "[encoded data removed]",
      "text/plain": [
       "<matplotlib.figure.Figure at 0x7f65e35e6240>"
      ]
     },
     "metadata": {},
     "output_type": "display_data"
    }
   ],
   "source": [
    "ann_sto_rep['net_profits'].plot()"
   ]
  },
  {
   "cell_type": "code",
   "execution_count": 24,
   "metadata": {},
   "outputs": [
    {
     "data": {
      "text/plain": [
       "<matplotlib.axes._subplots.AxesSubplot at 0x7f65e357e9b0>"
      ]
     },
     "execution_count": 24,
     "metadata": {},
     "output_type": "execute_result"
    },
    {
     "data": {
      "image/png": "[encoded data removed]",
      "text/plain": [
       "<matplotlib.figure.Figure at 0x7f6608366668>"
      ]
     },
     "metadata": {},
     "output_type": "display_data"
    }
   ],
   "source": [
    "ann_sto_rep['profits_yoy'].plot()"
   ]
  },
  {
   "cell_type": "code",
   "execution_count": null,
   "metadata": {
    "collapsed": true
   },
   "outputs": [],
   "source": []
  }
 ],
 "metadata": {
  "kernelspec": {
   "display_name": "Python 3",
   "language": "python",
   "name": "python3"
  },
  "language_info": {
   "codemirror_mode": {
    "name": "ipython",
    "version": 3
   },
   "file_extension": ".py",
   "mimetype": "text/x-python",
   "name": "python",
   "nbconvert_exporter": "python",
   "pygments_lexer": "ipython3",
   "version": "3.6.8"
  }
 },
 "nbformat": 4,
 "nbformat_minor": 2
}
