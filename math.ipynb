{
 "cells": [
  {
   "cell_type": "code",
   "execution_count": 1,
   "metadata": {},
   "outputs": [],
   "source": [
    "# encoding=utf-8\n",
    "\n",
    "import numpy as np"
   ]
  },
  {
   "cell_type": "code",
   "execution_count": 21,
   "metadata": {},
   "outputs": [
    {
     "data": {
      "text/plain": [
       "False"
      ]
     },
     "execution_count": 21,
     "metadata": {},
     "output_type": "execute_result"
    }
   ],
   "source": [
    "nums=[3,5,2]\n",
    "maxz=np.max(nums)\n",
    "a=range(maxz,np.product(nums))\n",
    "30 in a"
   ]
  },
  {
   "cell_type": "code",
   "execution_count": 46,
   "metadata": {},
   "outputs": [],
   "source": [
    "def getMinCM(nums):\n",
    "    maxz=np.max(nums)\n",
    "    for test in range(maxz,np.product(nums)+1):\n",
    "        for n in nums:\n",
    "            print(\"test:\\t\"+str(test)+\"\\tn:\\t\"+str(n))\n",
    "            if test%n!=0:\n",
    "                break\n",
    "            if n==nums[-1]:\n",
    "                return test\n",
    "        #break\n",
    "    return test"
   ]
  },
  {
   "cell_type": "code",
   "execution_count": 47,
   "metadata": {},
   "outputs": [
    {
     "name": "stdout",
     "output_type": "stream",
     "text": [
      "test:\t4\tn:\t3\n",
      "test:\t5\tn:\t3\n",
      "test:\t6\tn:\t3\n",
      "test:\t6\tn:\t4\n",
      "test:\t7\tn:\t3\n",
      "test:\t8\tn:\t3\n",
      "test:\t9\tn:\t3\n",
      "test:\t9\tn:\t4\n",
      "test:\t10\tn:\t3\n",
      "test:\t11\tn:\t3\n",
      "test:\t12\tn:\t3\n",
      "test:\t12\tn:\t4\n",
      "test:\t12\tn:\t2\n"
     ]
    },
    {
     "data": {
      "text/plain": [
       "12"
      ]
     },
     "execution_count": 47,
     "metadata": {},
     "output_type": "execute_result"
    }
   ],
   "source": [
    "getMinCM([3,4,2])"
   ]
  },
  {
   "cell_type": "code",
   "execution_count": 49,
   "metadata": {},
   "outputs": [
    {
     "name": "stdout",
     "output_type": "stream",
     "text": [
      "test:\t18\tn:\t12\n",
      "test:\t19\tn:\t12\n",
      "test:\t20\tn:\t12\n",
      "test:\t21\tn:\t12\n",
      "test:\t22\tn:\t12\n",
      "test:\t23\tn:\t12\n",
      "test:\t24\tn:\t12\n",
      "test:\t24\tn:\t15\n",
      "test:\t25\tn:\t12\n",
      "test:\t26\tn:\t12\n",
      "test:\t27\tn:\t12\n",
      "test:\t28\tn:\t12\n",
      "test:\t29\tn:\t12\n",
      "test:\t30\tn:\t12\n",
      "test:\t31\tn:\t12\n",
      "test:\t32\tn:\t12\n",
      "test:\t33\tn:\t12\n",
      "test:\t34\tn:\t12\n",
      "test:\t35\tn:\t12\n",
      "test:\t36\tn:\t12\n",
      "test:\t36\tn:\t15\n",
      "test:\t37\tn:\t12\n",
      "test:\t38\tn:\t12\n",
      "test:\t39\tn:\t12\n",
      "test:\t40\tn:\t12\n",
      "test:\t41\tn:\t12\n",
      "test:\t42\tn:\t12\n",
      "test:\t43\tn:\t12\n",
      "test:\t44\tn:\t12\n",
      "test:\t45\tn:\t12\n",
      "test:\t46\tn:\t12\n",
      "test:\t47\tn:\t12\n",
      "test:\t48\tn:\t12\n",
      "test:\t48\tn:\t15\n",
      "test:\t49\tn:\t12\n",
      "test:\t50\tn:\t12\n",
      "test:\t51\tn:\t12\n",
      "test:\t52\tn:\t12\n",
      "test:\t53\tn:\t12\n",
      "test:\t54\tn:\t12\n",
      "test:\t55\tn:\t12\n",
      "test:\t56\tn:\t12\n",
      "test:\t57\tn:\t12\n",
      "test:\t58\tn:\t12\n",
      "test:\t59\tn:\t12\n",
      "test:\t60\tn:\t12\n",
      "test:\t60\tn:\t15\n",
      "test:\t60\tn:\t5\n",
      "test:\t60\tn:\t18\n",
      "test:\t61\tn:\t12\n",
      "test:\t62\tn:\t12\n",
      "test:\t63\tn:\t12\n",
      "test:\t64\tn:\t12\n",
      "test:\t65\tn:\t12\n",
      "test:\t66\tn:\t12\n",
      "test:\t67\tn:\t12\n",
      "test:\t68\tn:\t12\n",
      "test:\t69\tn:\t12\n",
      "test:\t70\tn:\t12\n",
      "test:\t71\tn:\t12\n",
      "test:\t72\tn:\t12\n",
      "test:\t72\tn:\t15\n",
      "test:\t73\tn:\t12\n",
      "test:\t74\tn:\t12\n",
      "test:\t75\tn:\t12\n",
      "test:\t76\tn:\t12\n",
      "test:\t77\tn:\t12\n",
      "test:\t78\tn:\t12\n",
      "test:\t79\tn:\t12\n",
      "test:\t80\tn:\t12\n",
      "test:\t81\tn:\t12\n",
      "test:\t82\tn:\t12\n",
      "test:\t83\tn:\t12\n",
      "test:\t84\tn:\t12\n",
      "test:\t84\tn:\t15\n",
      "test:\t85\tn:\t12\n",
      "test:\t86\tn:\t12\n",
      "test:\t87\tn:\t12\n",
      "test:\t88\tn:\t12\n",
      "test:\t89\tn:\t12\n",
      "test:\t90\tn:\t12\n",
      "test:\t91\tn:\t12\n",
      "test:\t92\tn:\t12\n",
      "test:\t93\tn:\t12\n",
      "test:\t94\tn:\t12\n",
      "test:\t95\tn:\t12\n",
      "test:\t96\tn:\t12\n",
      "test:\t96\tn:\t15\n",
      "test:\t97\tn:\t12\n",
      "test:\t98\tn:\t12\n",
      "test:\t99\tn:\t12\n",
      "test:\t100\tn:\t12\n",
      "test:\t101\tn:\t12\n",
      "test:\t102\tn:\t12\n",
      "test:\t103\tn:\t12\n",
      "test:\t104\tn:\t12\n",
      "test:\t105\tn:\t12\n",
      "test:\t106\tn:\t12\n",
      "test:\t107\tn:\t12\n",
      "test:\t108\tn:\t12\n",
      "test:\t108\tn:\t15\n",
      "test:\t109\tn:\t12\n",
      "test:\t110\tn:\t12\n",
      "test:\t111\tn:\t12\n",
      "test:\t112\tn:\t12\n",
      "test:\t113\tn:\t12\n",
      "test:\t114\tn:\t12\n",
      "test:\t115\tn:\t12\n",
      "test:\t116\tn:\t12\n",
      "test:\t117\tn:\t12\n",
      "test:\t118\tn:\t12\n",
      "test:\t119\tn:\t12\n",
      "test:\t120\tn:\t12\n",
      "test:\t120\tn:\t15\n",
      "test:\t120\tn:\t5\n",
      "test:\t120\tn:\t18\n",
      "test:\t121\tn:\t12\n",
      "test:\t122\tn:\t12\n",
      "test:\t123\tn:\t12\n",
      "test:\t124\tn:\t12\n",
      "test:\t125\tn:\t12\n",
      "test:\t126\tn:\t12\n",
      "test:\t127\tn:\t12\n",
      "test:\t128\tn:\t12\n",
      "test:\t129\tn:\t12\n",
      "test:\t130\tn:\t12\n",
      "test:\t131\tn:\t12\n",
      "test:\t132\tn:\t12\n",
      "test:\t132\tn:\t15\n",
      "test:\t133\tn:\t12\n",
      "test:\t134\tn:\t12\n",
      "test:\t135\tn:\t12\n",
      "test:\t136\tn:\t12\n",
      "test:\t137\tn:\t12\n",
      "test:\t138\tn:\t12\n",
      "test:\t139\tn:\t12\n",
      "test:\t140\tn:\t12\n",
      "test:\t141\tn:\t12\n",
      "test:\t142\tn:\t12\n",
      "test:\t143\tn:\t12\n",
      "test:\t144\tn:\t12\n",
      "test:\t144\tn:\t15\n",
      "test:\t145\tn:\t12\n",
      "test:\t146\tn:\t12\n",
      "test:\t147\tn:\t12\n",
      "test:\t148\tn:\t12\n",
      "test:\t149\tn:\t12\n",
      "test:\t150\tn:\t12\n",
      "test:\t151\tn:\t12\n",
      "test:\t152\tn:\t12\n",
      "test:\t153\tn:\t12\n",
      "test:\t154\tn:\t12\n",
      "test:\t155\tn:\t12\n",
      "test:\t156\tn:\t12\n",
      "test:\t156\tn:\t15\n",
      "test:\t157\tn:\t12\n",
      "test:\t158\tn:\t12\n",
      "test:\t159\tn:\t12\n",
      "test:\t160\tn:\t12\n",
      "test:\t161\tn:\t12\n",
      "test:\t162\tn:\t12\n",
      "test:\t163\tn:\t12\n",
      "test:\t164\tn:\t12\n",
      "test:\t165\tn:\t12\n",
      "test:\t166\tn:\t12\n",
      "test:\t167\tn:\t12\n",
      "test:\t168\tn:\t12\n",
      "test:\t168\tn:\t15\n",
      "test:\t169\tn:\t12\n",
      "test:\t170\tn:\t12\n",
      "test:\t171\tn:\t12\n",
      "test:\t172\tn:\t12\n",
      "test:\t173\tn:\t12\n",
      "test:\t174\tn:\t12\n",
      "test:\t175\tn:\t12\n",
      "test:\t176\tn:\t12\n",
      "test:\t177\tn:\t12\n",
      "test:\t178\tn:\t12\n",
      "test:\t179\tn:\t12\n",
      "test:\t180\tn:\t12\n",
      "test:\t180\tn:\t15\n",
      "test:\t180\tn:\t5\n",
      "test:\t180\tn:\t18\n"
     ]
    },
    {
     "data": {
      "text/plain": [
       "180"
      ]
     },
     "execution_count": 49,
     "metadata": {},
     "output_type": "execute_result"
    }
   ],
   "source": [
    "getMinCM([12,15,5,18])"
   ]
  },
  {
   "cell_type": "code",
   "execution_count": 33,
   "metadata": {},
   "outputs": [
    {
     "data": {
      "text/plain": [
       "30"
      ]
     },
     "execution_count": 33,
     "metadata": {},
     "output_type": "execute_result"
    }
   ],
   "source": [
    "np.product([1,3,5,2])"
   ]
  },
  {
   "cell_type": "code",
   "execution_count": 7,
   "metadata": {},
   "outputs": [],
   "source": [
    "np.product?"
   ]
  },
  {
   "cell_type": "code",
   "execution_count": 63,
   "metadata": {},
   "outputs": [],
   "source": [
    "# Max common divisors\n",
    "def getMaxCD(nums):  \n",
    "    minz=np.min(nums)\n",
    "    for test in range(minz+1,2,-1):\n",
    "        for n in nums:\n",
    "            print(\"test:\\t\"+str(test)+\"\\tn:\\t\"+str(n))\n",
    "            if n%test!=0:\n",
    "                break\n",
    "            if n==nums[-1]:\n",
    "                return test\n",
    "        #break\n",
    "    return 1"
   ]
  },
  {
   "cell_type": "code",
   "execution_count": 64,
   "metadata": {},
   "outputs": [
    {
     "name": "stdout",
     "output_type": "stream",
     "text": [
      "test:\t13\tn:\t12\n",
      "test:\t12\tn:\t12\n",
      "test:\t12\tn:\t18\n",
      "test:\t11\tn:\t12\n",
      "test:\t10\tn:\t12\n",
      "test:\t9\tn:\t12\n",
      "test:\t8\tn:\t12\n",
      "test:\t7\tn:\t12\n",
      "test:\t6\tn:\t12\n",
      "test:\t6\tn:\t18\n",
      "test:\t6\tn:\t24\n"
     ]
    },
    {
     "data": {
      "text/plain": [
       "6"
      ]
     },
     "execution_count": 64,
     "metadata": {},
     "output_type": "execute_result"
    }
   ],
   "source": [
    "getMaxCD([12,18,24])"
   ]
  },
  {
   "cell_type": "code",
   "execution_count": 66,
   "metadata": {},
   "outputs": [
    {
     "name": "stdout",
     "output_type": "stream",
     "text": [
      "test:\t16\tn:\t15\n",
      "test:\t15\tn:\t15\n",
      "test:\t15\tn:\t17\n",
      "test:\t14\tn:\t15\n",
      "test:\t13\tn:\t15\n",
      "test:\t12\tn:\t15\n",
      "test:\t11\tn:\t15\n",
      "test:\t10\tn:\t15\n",
      "test:\t9\tn:\t15\n",
      "test:\t8\tn:\t15\n",
      "test:\t7\tn:\t15\n",
      "test:\t6\tn:\t15\n",
      "test:\t5\tn:\t15\n",
      "test:\t5\tn:\t17\n",
      "test:\t4\tn:\t15\n",
      "test:\t3\tn:\t15\n",
      "test:\t3\tn:\t17\n"
     ]
    },
    {
     "data": {
      "text/plain": [
       "1"
      ]
     },
     "execution_count": 66,
     "metadata": {},
     "output_type": "execute_result"
    }
   ],
   "source": [
    "getMaxCD([15,17,24])"
   ]
  }
 ],
 "metadata": {
  "kernelspec": {
   "display_name": "Python 3",
   "language": "python",
   "name": "python3"
  },
  "language_info": {
   "codemirror_mode": {
    "name": "ipython",
    "version": 3
   },
   "file_extension": ".py",
   "mimetype": "text/x-python",
   "name": "python",
   "nbconvert_exporter": "python",
   "pygments_lexer": "ipython3",
   "version": "3.6.9"
  }
 },
 "nbformat": 4,
 "nbformat_minor": 2
}
